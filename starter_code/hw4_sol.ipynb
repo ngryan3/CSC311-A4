{
 "cells": [
  {
   "cell_type": "markdown",
   "metadata": {},
   "source": [
    "# 1. Unsupervised Learning"
   ]
  },
  {
   "cell_type": "code",
   "execution_count": 32,
   "metadata": {
    "pycharm": {
     "is_executing": false
    }
   },
   "outputs": [],
   "source": [
    "%matplotlib inline\n",
    "import scipy\n",
    "import numpy as np\n",
    "import itertools\n",
    "import matplotlib.pyplot as plt\n",
    "from scipy.stats import multivariate_normal"
   ]
  },
  {
   "cell_type": "markdown",
   "metadata": {},
   "source": [
    "## 1. Generating the data\n",
    "\n",
    "First, we will generate some data for this problem. Set the number of points $N=400$, their dimension $D=2$, and the number of clusters $K=2$, and generate data from the distribution $p(x|z=k) = \\mathcal{N}(\\mu_k, \\Sigma_k)$.\n",
    "  Sample $200$ data points for $k=1$ and 200 for $k=2$, with\n",
    "\n",
    "  $$\n",
    "    \\mu_1=\n",
    "    \\begin{bmatrix}\n",
    "      0.1 \\\\\n",
    "      0.1\n",
    "    \\end{bmatrix}\n",
    "    \\ \\text{,}\\\n",
    "    \\mu_2=\n",
    "    \\begin{bmatrix}\n",
    "      6.0 \\\\\n",
    "      0.1\n",
    "    \\end{bmatrix}\n",
    "    \\ \\text{ and }\\\n",
    "    \\Sigma_1=\\Sigma_2=\n",
    "    \\begin{bmatrix}\n",
    "      10       & 7 \\\\\n",
    "      7 & 10\n",
    "    \\end{bmatrix}\n",
    "  $$\n",
    "  Here, $N=400$. Since you generated the data, you already know which sample comes from which class.\n",
    "  Run the cell in the IPython notebook to generate the data."
   ]
  },
  {
   "cell_type": "code",
   "execution_count": 33,
   "metadata": {
    "pycharm": {
     "is_executing": false
    }
   },
   "outputs": [],
   "source": [
    "# TODO: Run this cell to generate the data\n",
    "num_samples = 400\n",
    "cov = np.array([[1., .7], [.7, 1.]]) * 10\n",
    "mean_1 = [.1, .1]\n",
    "mean_2 = [6., .1]\n",
    "\n",
    "x_class1 = np.random.multivariate_normal(mean_1, cov, num_samples // 2)\n",
    "x_class2 = np.random.multivariate_normal(mean_2, cov, num_samples // 2)\n",
    "xy_class1 = np.column_stack((x_class1, np.zeros(num_samples // 2)))\n",
    "xy_class2 = np.column_stack((x_class2, np.ones(num_samples // 2)))\n",
    "data_full = np.row_stack([xy_class1, xy_class2])\n",
    "np.random.shuffle(data_full)\n",
    "data = data_full[:, :2]\n",
    "labels = data_full[:, 2]"
   ]
  },
  {
   "cell_type": "markdown",
   "metadata": {},
   "source": [
    "Make a scatter plot of the data points showing the true cluster assignment of each point using different color codes and shape (x for first class and circles for second class):"
   ]
  },
  {
   "cell_type": "code",
   "execution_count": 34,
   "metadata": {
    "pycharm": {
     "is_executing": false
    }
   },
   "outputs": [
    {
     "data": {
      "text/plain": [
       "[<matplotlib.lines.Line2D at 0x1beee490>]"
      ]
     },
     "execution_count": 34,
     "metadata": {},
     "output_type": "execute_result"
    },
    {
     "data": {
      "image/png": "[encoded data removed]",
      "text/plain": [
       "<Figure size 432x288 with 1 Axes>"
      ]
     },
     "metadata": {
      "needs_background": "light"
     },
     "output_type": "display_data"
    }
   ],
   "source": [
    "# TODO: Make a scatterplot for the data points showing the true cluster assignments of each point\n",
    "plt.plot(x_class1[:, 0], x_class1[:, 1], 'x') # first class, x shape\n",
    "plt.plot(x_class2[:, 0], x_class2[:, 1], 'ro') # second class, circle shape"
   ]
  },
  {
   "cell_type": "markdown",
   "metadata": {},
   "source": [
    "## 2. Implement and Run K-Means algorithm\n",
    "\n",
    "Now, we assume that the true class labels are not known. Implement the k-means algorithm for this problem.\n",
    "  Write two functions: `km_assignment_step`, and `km_refitting_step` as given in the lecture (Here, `km_` means k-means).\n",
    "  Identify the correct arguments, and the order to run them. Initialize the algorithm with\n",
    "  $$\n",
    "    \\hat\\mu_1=\n",
    "    \\begin{bmatrix}\n",
    "      0.0 \\\\\n",
    "      0.0\n",
    "    \\end{bmatrix}\n",
    "    \\ \\text{,}\\\n",
    "    \\hat\\mu_2=\n",
    "    \\begin{bmatrix}\n",
    "      1.0 \\\\\n",
    "      1.0\n",
    "    \\end{bmatrix}\n",
    "  $$\n",
    "  and run it until convergence.\n",
    "  Show the resulting cluster assignments on a scatter plot either using different color codes or shape or both.\n",
    "  Also plot the cost vs. the number of iterations. Report your misclassification error."
   ]
  },
  {
   "cell_type": "code",
   "execution_count": 35,
   "metadata": {
    "pycharm": {
     "is_executing": false
    }
   },
   "outputs": [],
   "source": [
    "def cost(data, R, Mu):\n",
    "    N, D = data.shape\n",
    "    K = Mu.shape[1]\n",
    "    J = 0\n",
    "    for k in range(K):\n",
    "        J += np.sum(np.dot(np.linalg.norm(data - np.array([Mu[:, k], ] * N), axis=1)**2, R))\n",
    "    return J"
   ]
  },
  {
   "cell_type": "code",
   "execution_count": 36,
   "metadata": {
    "pycharm": {
     "is_executing": false
    }
   },
   "outputs": [],
   "source": [
    "# TODO: K-Means Assignment Step\n",
    "def km_assignment_step(data, Mu):\n",
    "    \"\"\" Compute K-Means assignment step\n",
    "    \n",
    "    Args:\n",
    "        data: a NxD matrix for the data points\n",
    "        Mu: a DxK matrix for the cluster means locations\n",
    "    \n",
    "    Returns:\n",
    "        R_new: a NxK matrix of responsibilities\n",
    "    \"\"\"\n",
    "    \n",
    "    # Fill this in:\n",
    "    N, D = data.shape # Number of datapoints and dimension of datapoint\n",
    "    K = Mu.shape[1] # number of clusters\n",
    "    r = np.zeros((N, K))\n",
    "    for k in range(K):\n",
    "        r[:, k] = np.linalg.norm(data - np.array([Mu[:, k], ] * N), axis=1)**2\n",
    "    arg_min = np.argmin(r, axis=1) # argmax/argmin along dimension 1\n",
    "    R_new = np.zeros((N, K)) # Set to zeros/ones with shape (N, K)\n",
    "    R_new[np.arange(N), arg_min] = 1 # Assign to 1\n",
    "    return R_new"
   ]
  },
  {
   "cell_type": "code",
   "execution_count": 37,
   "metadata": {
    "pycharm": {
     "is_executing": false
    }
   },
   "outputs": [],
   "source": [
    "# TODO: K-means Refitting Step\n",
    "def km_refitting_step(data, R, Mu):\n",
    "    \"\"\" Compute K-Means refitting step.\n",
    "    \n",
    "    Args:\n",
    "        data: a NxD matrix for the data points\n",
    "        R: a NxK matrix of responsibilities\n",
    "        Mu: a DxK matrix for the cluster means locations\n",
    "    \n",
    "    Returns:\n",
    "        Mu_new: a DxK matrix for the new cluster means locations\n",
    "    \"\"\"\n",
    "    N, D = data.shape # Number of datapoints and dimension of datapoint\n",
    "    K = Mu.shape[1]  # number of clusters\n",
    "    Mu_new = np.dot(data.T, R) / np.sum(R, axis=0)\n",
    "    return Mu_new"
   ]
  },
  {
   "cell_type": "code",
   "execution_count": 38,
   "metadata": {
    "pycharm": {
     "is_executing": false
    }
   },
   "outputs": [
    {
     "name": "stdout",
     "output_type": "stream",
     "text": [
      "0 37341.10522161417\n",
      "1 37160.576247573306\n",
      "2 36952.042462022\n",
      "3 36849.107354207066\n",
      "4 36778.440880837414\n",
      "5 36687.73241450975\n",
      "6 36687.73241450975\n",
      "7 36687.73241450975\n",
      "8 36687.73241450975\n",
      "9 36687.73241450975\n",
      "10 36687.73241450975\n",
      "11 36687.73241450975\n",
      "12 36687.73241450975\n",
      "13 36687.73241450975\n",
      "14 36687.73241450975\n",
      "15 36687.73241450975\n",
      "16 36687.73241450975\n",
      "17 36687.73241450975\n",
      "18 36687.73241450975\n",
      "19 36687.73241450975\n",
      "20 36687.73241450975\n",
      "21 36687.73241450975\n",
      "22 36687.73241450975\n",
      "23 36687.73241450975\n",
      "24 36687.73241450975\n",
      "25 36687.73241450975\n",
      "26 36687.73241450975\n",
      "27 36687.73241450975\n",
      "28 36687.73241450975\n",
      "29 36687.73241450975\n",
      "30 36687.73241450975\n",
      "31 36687.73241450975\n",
      "32 36687.73241450975\n",
      "33 36687.73241450975\n",
      "34 36687.73241450975\n",
      "35 36687.73241450975\n",
      "36 36687.73241450975\n",
      "37 36687.73241450975\n",
      "38 36687.73241450975\n",
      "39 36687.73241450975\n",
      "40 36687.73241450975\n",
      "41 36687.73241450975\n",
      "42 36687.73241450975\n",
      "43 36687.73241450975\n",
      "44 36687.73241450975\n",
      "45 36687.73241450975\n",
      "46 36687.73241450975\n",
      "47 36687.73241450975\n",
      "48 36687.73241450975\n",
      "49 36687.73241450975\n",
      "50 36687.73241450975\n",
      "51 36687.73241450975\n",
      "52 36687.73241450975\n",
      "53 36687.73241450975\n",
      "54 36687.73241450975\n",
      "55 36687.73241450975\n",
      "56 36687.73241450975\n",
      "57 36687.73241450975\n",
      "58 36687.73241450975\n",
      "59 36687.73241450975\n",
      "60 36687.73241450975\n",
      "61 36687.73241450975\n",
      "62 36687.73241450975\n",
      "63 36687.73241450975\n",
      "64 36687.73241450975\n",
      "65 36687.73241450975\n",
      "66 36687.73241450975\n",
      "67 36687.73241450975\n",
      "68 36687.73241450975\n",
      "69 36687.73241450975\n",
      "70 36687.73241450975\n",
      "71 36687.73241450975\n",
      "72 36687.73241450975\n",
      "73 36687.73241450975\n",
      "74 36687.73241450975\n",
      "75 36687.73241450975\n",
      "76 36687.73241450975\n",
      "77 36687.73241450975\n",
      "78 36687.73241450975\n",
      "79 36687.73241450975\n",
      "80 36687.73241450975\n",
      "81 36687.73241450975\n",
      "82 36687.73241450975\n",
      "83 36687.73241450975\n",
      "84 36687.73241450975\n",
      "85 36687.73241450975\n",
      "86 36687.73241450975\n",
      "87 36687.73241450975\n",
      "88 36687.73241450975\n",
      "89 36687.73241450975\n",
      "90 36687.73241450975\n",
      "91 36687.73241450975\n",
      "92 36687.73241450975\n",
      "93 36687.73241450975\n",
      "94 36687.73241450975\n",
      "95 36687.73241450975\n",
      "96 36687.73241450975\n",
      "97 36687.73241450975\n",
      "98 36687.73241450975\n",
      "99 36687.73241450975\n"
     ]
    }
   ],
   "source": [
    "# TODO: Run this cell to call the K-means algorithm\n",
    "N, D = data.shape\n",
    "K = 2\n",
    "max_iter = 100\n",
    "class_init = np.random.binomial(1., .5, size=N)\n",
    "R = np.vstack([class_init, 1 - class_init]).T\n",
    "\n",
    "Mu = np.zeros([D, K])\n",
    "Mu[:, 1] = 1.\n",
    "R.T.dot(data), np.sum(R, axis=0)\n",
    "\n",
    "cost_lst = []\n",
    "for it in range(max_iter):\n",
    "    R = km_assignment_step(data, Mu)\n",
    "    Mu = km_refitting_step(data, R, Mu)\n",
    "    print(it, cost(data, R, Mu))\n",
    "    cost_lst.append(cost(data, R, Mu))\n",
    "\n",
    "class_1 = np.where(R[:, 0])\n",
    "class_2 = np.where(R[:, 1])"
   ]
  },
  {
   "cell_type": "code",
   "execution_count": 39,
   "metadata": {
    "pycharm": {
     "is_executing": false
    }
   },
   "outputs": [
    {
     "name": "stdout",
     "output_type": "stream",
     "text": [
      "Misclassification Error Rate: 0.235\n"
     ]
    },
    {
     "data": {
      "image/png": "[encoded data removed]",
      "text/plain": [
       "<Figure size 432x288 with 1 Axes>"
      ]
     },
     "metadata": {
      "needs_background": "light"
     },
     "output_type": "display_data"
    },
    {
     "data": {
      "image/png": "[encoded data removed]",
      "text/plain": [
       "<Figure size 432x288 with 1 Axes>"
      ]
     },
     "metadata": {
      "needs_background": "light"
     },
     "output_type": "display_data"
    }
   ],
   "source": [
    "# TODO: Make a scatterplot for the data points showing the K-Means cluster assignments of each point\n",
    "plt.figure(1)\n",
    "plt.plot(data.T[0][class_1], data.T[1][class_1], 'bx') # first class, x shape\n",
    "plt.plot(data.T[0][class_2], data.T[1][class_2], 'ro') # second class, circle shape\n",
    "plt.figure(2)\n",
    "plt.plot(np.arange(max_iter), cost_lst)\n",
    "correct_class1 = np.sum(labels[class_1] == 0)\n",
    "correct_class2 = np.sum(labels[class_2] == 1)\n",
    "total = (correct_class1 + correct_class2) / len(labels)\n",
    "print('Misclassification Error Rate: {}'.format(1 - total))"
   ]
  },
  {
   "cell_type": "markdown",
   "metadata": {},
   "source": [
    "## 3. Implement EM algorithm for Gaussian mixtures\n",
    "Next, implement the EM algorithm for Gaussian mixtures.\n",
    "  Write three functions: `log_likelihood`, `gm_e_step`, and `gm_m_step` as given in the lecture.\n",
    "  Identify the correct arguments, and the order to run them.\n",
    "  Initialize the algorithm with means as in Qs 2.1 k-means initialization, covariances with $\\hat\\Sigma_1=\\hat\\Sigma_2=I$,\n",
    "  and $\\hat\\pi_1=\\hat\\pi_2$.\n",
    "\n",
    "  In addition to the update equations in the lecture, for the M (Maximization) step, you also need to use this following equation to update the covariance $\\Sigma_k$:\n",
    "$$\\hat{\\mathbf{\\Sigma}_k} = \\frac{1}{N_k} \\sum^N_{n=1} r_k^{(n)}(\\mathbf{x}^{(n)} - \\hat{\\mathbf{\\mu}_k})(\\mathbf{x}^{(n)} - \\hat{\\mathbf{\\mu}_k})^{\\top}$$\n",
    "    \n",
    "  Run the algorithm until convergence and show the resulting cluster assignments on a scatter plot either using different color codes or shape or both.\n",
    "  Also plot the log-likelihood vs. the number of iterations. Report your misclassification error."
   ]
  },
  {
   "cell_type": "code",
   "execution_count": 40,
   "metadata": {
    "pycharm": {
     "is_executing": false
    }
   },
   "outputs": [],
   "source": [
    "def normal_density(x, mu, Sigma):\n",
    "    return np.exp(-.5 * np.dot(x - mu, np.linalg.solve(Sigma, x - mu))) \\\n",
    "        / np.sqrt(np.linalg.det(2 * np.pi * Sigma))"
   ]
  },
  {
   "cell_type": "code",
   "execution_count": 41,
   "metadata": {
    "pycharm": {
     "is_executing": false
    }
   },
   "outputs": [],
   "source": [
    "def log_likelihood(data, Mu, Sigma, Pi):\n",
    "    \"\"\" Compute log likelihood on the data given the Gaussian Mixture Parameters.\n",
    "    \n",
    "    Args:\n",
    "        data: a NxD matrix for the data points\n",
    "        Mu: a DxK matrix for the means of the K Gaussian Mixtures\n",
    "        Sigma: a list of size K with each element being DxD covariance matrix\n",
    "        Pi: a vector of size K for the mixing coefficients\n",
    "    \n",
    "    Returns:\n",
    "        L: a scalar denoting the log likelihood of the data given the Gaussian Mixture\n",
    "    \"\"\"\n",
    "    # Fill this in:\n",
    "    N, D = data.shape # Number of datapoints and dimension of datapoint\n",
    "    K = Mu.shape[1] # number of mixtures\n",
    "    L, T = 0., 0.\n",
    "    for n in range(N):\n",
    "        T = 0.\n",
    "        for k in range(K):\n",
    "            T += Pi[k] * normal_density(data[n], Mu[:, k], Sigma[k])# Compute the likelihood from the k-th Gaussian weighted by the mixing coefficients \n",
    "        L += np.log(T)\n",
    "    return L"
   ]
  },
  {
   "cell_type": "code",
   "execution_count": 42,
   "metadata": {
    "pycharm": {
     "is_executing": false
    }
   },
   "outputs": [],
   "source": [
    "# TODO: Gaussian Mixture Expectation Step\n",
    "def gm_e_step(data, Mu, Sigma, Pi):\n",
    "    \"\"\" Gaussian Mixture Expectation Step.\n",
    "\n",
    "    Args:\n",
    "        data: a NxD matrix for the data points\n",
    "        Mu: a DxK matrix for the means of the K Gaussian Mixtures\n",
    "        Sigma: a list of size K with each element being DxD covariance matrix\n",
    "        Pi: a vector of size K for the mixing coefficients\n",
    "    \n",
    "    Returns:\n",
    "        Gamma: a NxK matrix of responsibilities \n",
    "    \"\"\"\n",
    "    # Fill this in:\n",
    "    N, D = data.shape # Number of datapoints and dimension of datapoint\n",
    "    K = Mu.shape[1] # number of mixtures\n",
    "    Gamma = np.zeros((N, K)) # zeros of shape (N,K), matrix of responsibilities\n",
    "    for n in range(N):\n",
    "        for k in range(K):\n",
    "            Gamma[n, k] = Pi[k] * normal_density(data[n], Mu[:, k], Sigma[k])\n",
    "        Gamma[n, :] /= np.sum(Gamma, axis=1)[n] # Normalize by sum across second dimension (mixtures)\n",
    "    return Gamma"
   ]
  },
  {
   "cell_type": "code",
   "execution_count": 43,
   "metadata": {
    "pycharm": {
     "is_executing": false
    }
   },
   "outputs": [],
   "source": [
    "# TODO: Gaussian Mixture Maximization Step\n",
    "def gm_m_step(data, Gamma):\n",
    "    \"\"\" Gaussian Mixture Maximization Step.\n",
    "\n",
    "    Args:\n",
    "        data: a NxD matrix for the data points\n",
    "        Gamma: a NxK matrix of responsibilities \n",
    "    \n",
    "    Returns:\n",
    "        Mu: a DxK matrix for the means of the K Gaussian Mixtures\n",
    "        Sigma: a list of size K with each element being DxD covariance matrix\n",
    "        Pi: a vector of size K for the mixing coefficients\n",
    "    \"\"\"\n",
    "    # Fill this in:\n",
    "    N, D = data.shape # Number of datapoints and dimension of datapoint\n",
    "    K = Gamma.shape[1]  # number of mixtures\n",
    "    Nk = np.sum(Gamma, axis=0) # Sum along first axis \n",
    "    Mu = np.dot(data.T, Gamma) / Nk\n",
    "    Sigma = [np.zeros((D, D))] * K\n",
    "\n",
    "    for k in range(K):\n",
    "        diff = (data - Mu[:, k]).T\n",
    "        sum = np.dot(Gamma[:, k] * diff, diff.T)\n",
    "        Sigma[k] = sum / Nk[k]\n",
    "    Pi = Nk / N\n",
    "    return Mu, Sigma, Pi"
   ]
  },
  {
   "cell_type": "code",
   "execution_count": 44,
   "metadata": {
    "pycharm": {
     "is_executing": false
    }
   },
   "outputs": [],
   "source": [
    "# TODO: Run this cell to call the Gaussian Mixture EM algorithm\n",
    "N, D = data.shape\n",
    "K = 2\n",
    "Mu = np.zeros([D, K])\n",
    "Mu[:, 1] = 1.\n",
    "Sigma = [np.eye(2), np.eye(2)]\n",
    "Pi = np.ones(K) / K\n",
    "Gamma = np.zeros([N, K]) # Gamma is the matrix of responsibilities \n",
    "\n",
    "max_iter  = 200\n",
    "\n",
    "log_likelihood_lst = []\n",
    "\n",
    "for it in range(max_iter):\n",
    "    Gamma = gm_e_step(data, Mu, Sigma, Pi)\n",
    "    Mu, Sigma, Pi = gm_m_step(data, Gamma)\n",
    "    # print(it, log_likelihood(data, Mu, Sigma, Pi)) # This function makes the computation longer, but good for debugging\n",
    "    log_likelihood_lst.append(log_likelihood(data, Mu, Sigma, Pi))\n",
    "\n",
    "class_1 = np.where(Gamma[:, 0] >= .5)\n",
    "class_2 = np.where(Gamma[:, 1] >= .5)"
   ]
  },
  {
   "cell_type": "code",
   "execution_count": 45,
   "metadata": {
    "pycharm": {
     "is_executing": false
    }
   },
   "outputs": [
    {
     "name": "stdout",
     "output_type": "stream",
     "text": [
      "Misclassification Error Rate: 0.07999999999999996\n"
     ]
    },
    {
     "data": {
      "image/png": "[encoded data removed]",
      "text/plain": [
       "<Figure size 432x288 with 1 Axes>"
      ]
     },
     "metadata": {
      "needs_background": "light"
     },
     "output_type": "display_data"
    },
    {
     "data": {
      "image/png": "[encoded data removed]",
      "text/plain": [
       "<Figure size 432x288 with 1 Axes>"
      ]
     },
     "metadata": {
      "needs_background": "light"
     },
     "output_type": "display_data"
    }
   ],
   "source": [
    "# TODO: Make a scatterplot for the data points showing the Gaussian Mixture cluster assignments of each point\n",
    "plt.figure(3)\n",
    "plt.plot(data.T[0][class_1], data.T[1][class_1], 'bx') # first class, x shape\n",
    "plt.plot(data.T[0][class_2], data.T[1][class_2], 'ro') # second class, circle shape\n",
    "plt.figure(4)\n",
    "plt.plot(np.arange(max_iter), log_likelihood_lst)\n",
    "correct_class1 = np.sum(labels[class_1] == 0)\n",
    "correct_class2 = np.sum(labels[class_2] == 1)\n",
    "total = (correct_class1 + correct_class2) / len(labels)\n",
    "print('Misclassification Error Rate: {}'.format(1 - total))\n",
    "\n"
   ]
  },
  {
   "cell_type": "markdown",
   "metadata": {},
   "source": [
    "## 4. Comment on findings + additional experiments"
   ]
  },
  {
   "cell_type": "markdown",
   "metadata": {},
   "source": [
    "Comment on the results:\n",
    "\n",
    "* Compare the performance of k-Means and EM based on the resulting cluster assignments.\n",
    "* Compare the performance of k-Means and EM based on their convergence rate. What is the bottleneck for which method?\n",
    "* Experiment with 5 different data realizations (generate new data), run your algorithms, and summarize your findings. Does the algorithm performance depend on different realizations of data?\n",
    " \n"
   ]
  },
  {
   "cell_type": "markdown",
   "metadata": {},
   "source": [
    "**TODO: Your written answer here**\n",
    "* Based on the mis-classification rate between k-means and EM, EM and k-means has a\n",
    "mis-classification rate 0.08 and 0.235 respectively. Based off this analysis we can see that EM\n",
    "has a better performance than k-means\n",
    "* Based on the plot above, k-means has a faster convergence rate compared to EM. The bottleneck\n",
    "for k-means is the assignment step because we are calculating the euclidean distance distances\n",
    "between all data points for assignment versus refitting step which takes the output of the \n",
    "assignment step. The bottleneck for EM is the e-step because of the normal_density_function\n",
    "call when computing Gamma.\n",
    "* After running both algorithms with 5 different data sets, on average EM algorithm has a lower\n",
    "mis-classification rate than k-means and the algorithms performance do depend on different \n",
    "realizations of data since we get a different mis-classification rate for every new data that \n",
    "is generated"
   ]
  },
  {
   "cell_type": "markdown",
   "metadata": {},
   "source": [
    "# 2. Reinforcement Learning\n",
    "\n",
    "There are 3 files:\n",
    "1. `maze.py`: defines the `MazeEnv` class, the simulation environment which the Q-learning agent will interact in.\n",
    "2. `qlearning.py`: defines the `qlearn` function which you will implement, along with several helper functions. Follow the instructions in the file. \n",
    "3. `plotting_utils.py`: defines several plotting and visualization utilities. In particular, you will use `plot_steps_vs_iters`, `plot_several_steps_vs_iters`, `plot_policy_from_q`"
   ]
  },
  {
   "cell_type": "code",
   "execution_count": 46,
   "metadata": {
    "pycharm": {
     "is_executing": false
    }
   },
   "outputs": [],
   "source": [
    "from qlearning import qlearn\n",
    "from maze import MazeEnv, ProbabilisticMazeEnv\n",
    "from plotting_utils import plot_steps_vs_iters, plot_several_steps_vs_iters, plot_policy_from_q"
   ]
  },
  {
   "cell_type": "markdown",
   "metadata": {},
   "source": [
    "## 1. Basic Q Learning experiments"
   ]
  },
  {
   "cell_type": "markdown",
   "metadata": {},
   "source": [
    "(a) Run your algorithm several times on the given environment. Use the following hyperparameters:\n",
    "1. Number of episodes = 200\n",
    "2. Alpha ($\\alpha$) learning rate = 1.0\n",
    "2. Maximum number of steps per episode = 100. An episode ends when the agent reaches a goal state, or uses the maximum number of steps per episode\n",
    "3. Gamma ($\\gamma$) discount factor = 0.9\n",
    "4. Epsilon ($\\epsilon$) for $\\epsilon$-greedy = 0.1 (10% of the time). Note that we should \"break-ties\" when the Q-values are zero for all the actions (happens initially) by essentially choosing uniformly from the action. So now you have two conditions to act randomly: for epsilon amount of the time, or if the Q values are all zero. \n"
   ]
  },
  {
   "cell_type": "code",
   "execution_count": 47,
   "metadata": {
    "pycharm": {
     "is_executing": false
    }
   },
   "outputs": [],
   "source": [
    "# TODO: Fill this in\n",
    "num_iters = 200\n",
    "alpha = 1.\n",
    "gamma = 0.9\n",
    "epsilon = 0.1\n",
    "max_steps = 100\n",
    "use_softmax_policy = False\n",
    "\n",
    "# TODO: Instantiate the MazeEnv environment with default arguments\n",
    "env = MazeEnv()\n",
    "\n",
    "# TODO: Run Q-learning:\n",
    "q_hat, steps_vs_iters = qlearn(env, num_iters, alpha, gamma, epsilon, max_steps, use_softmax_policy)"
   ]
  },
  {
   "cell_type": "markdown",
   "metadata": {},
   "source": [
    "Plot the steps to goal vs training iterations (episodes):"
   ]
  },
  {
   "cell_type": "code",
   "execution_count": 48,
   "metadata": {
    "pycharm": {
     "is_executing": false
    }
   },
   "outputs": [
    {
     "data": {
      "image/png": "[encoded data removed]",
      "text/plain": [
       "<Figure size 432x288 with 1 Axes>"
      ]
     },
     "metadata": {
      "needs_background": "light"
     },
     "output_type": "display_data"
    }
   ],
   "source": [
    "# TODO: Plot the steps vs iterations\n",
    "plot_steps_vs_iters(steps_vs_iters)\n"
   ]
  },
  {
   "cell_type": "markdown",
   "metadata": {},
   "source": [
    "Visualize the learned greedy policy from the Q values:"
   ]
  },
  {
   "cell_type": "code",
   "execution_count": 49,
   "metadata": {
    "pycharm": {
     "is_executing": false
    },
    "scrolled": true
   },
   "outputs": [
    {
     "data": {
      "image/png": "[encoded data removed]",
      "text/plain": [
       "<Figure size 480x320 with 1 Axes>"
      ]
     },
     "metadata": {
      "needs_background": "light"
     },
     "output_type": "display_data"
    },
    {
     "data": {
      "text/plain": [
       "<Figure size 720x720 with 0 Axes>"
      ]
     },
     "metadata": {},
     "output_type": "display_data"
    }
   ],
   "source": [
    "# TODO: plot the policy from the Q value\n",
    "plot_policy_from_q(q_hat, env)"
   ]
  },
  {
   "cell_type": "markdown",
   "metadata": {},
   "source": [
    "(b) Run your algorithm by passing in a list of 2 goal locations: (1,8) and (5,6). Note: we are using 0-indexing, where (0,0) is top left corner. Report on the results."
   ]
  },
  {
   "cell_type": "code",
   "execution_count": 50,
   "metadata": {
    "pycharm": {
     "is_executing": false
    }
   },
   "outputs": [],
   "source": [
    "# TODO: Fill this in (same as before)\n",
    "num_iters = 200\n",
    "alpha = 1.\n",
    "gamma = 0.9\n",
    "epsilon = 0.1\n",
    "max_steps = 100\n",
    "use_softmax_policy = False\n",
    "\n",
    "# TODO: Set the goal\n",
    "goal_locs = [[1,8], [5,6]]\n",
    "env = MazeEnv(goals=goal_locs)\n",
    "\n",
    "# TODO: Run Q-learning:\n",
    "q_hat, steps_vs_iters = qlearn(env, num_iters, alpha, gamma, epsilon, max_steps, use_softmax_policy)"
   ]
  },
  {
   "cell_type": "markdown",
   "metadata": {},
   "source": [
    "Plot the steps to goal vs training iterations (episodes):"
   ]
  },
  {
   "cell_type": "code",
   "execution_count": 51,
   "metadata": {
    "pycharm": {
     "is_executing": false
    }
   },
   "outputs": [
    {
     "data": {
      "image/png": "[encoded data removed]",
      "text/plain": [
       "<Figure size 432x288 with 1 Axes>"
      ]
     },
     "metadata": {
      "needs_background": "light"
     },
     "output_type": "display_data"
    }
   ],
   "source": [
    "# TODO: Plot the steps vs iterations\n",
    "plot_steps_vs_iters(steps_vs_iters)"
   ]
  },
  {
   "cell_type": "markdown",
   "metadata": {},
   "source": [
    "Plot the steps to goal vs training iterations (episodes):"
   ]
  },
  {
   "cell_type": "code",
   "execution_count": 52,
   "metadata": {
    "pycharm": {
     "is_executing": false
    }
   },
   "outputs": [
    {
     "data": {
      "image/png": "[encoded data removed]",
      "text/plain": [
       "<Figure size 480x320 with 1 Axes>"
      ]
     },
     "metadata": {
      "needs_background": "light"
     },
     "output_type": "display_data"
    },
    {
     "data": {
      "text/plain": [
       "<Figure size 720x720 with 0 Axes>"
      ]
     },
     "metadata": {},
     "output_type": "display_data"
    }
   ],
   "source": [
    "# TODO: plot the policy from the Q values\n",
    "plot_policy_from_q(q_hat, env)"
   ]
  },
  {
   "cell_type": "markdown",
   "metadata": {},
   "source": [
    "## 2. Experiment with the exploration strategy, in the original environment"
   ]
  },
  {
   "cell_type": "markdown",
   "metadata": {},
   "source": [
    "(a) Try different $\\epsilon$ values in $\\epsilon$-greedy exploration: We asked you to use a rate of $\\epsilon$=10%, but try also 50% and 1%. Graph the results (for 3 epsilon values) and discuss the costs and benefits of higher and lower exploration rates."
   ]
  },
  {
   "cell_type": "code",
   "execution_count": 53,
   "metadata": {
    "pycharm": {
     "is_executing": false
    }
   },
   "outputs": [],
   "source": [
    "# TODO: Fill this in (same as before)\n",
    "num_iters = 200\n",
    "alpha = 1.\n",
    "gamma = 0.9\n",
    "max_steps = 100\n",
    "use_softmax_policy = False\n",
    "\n",
    "# TODO: set the epsilon lists in increasing order:\n",
    "epsilon_list = [0.01, 0.1, 0.5]\n",
    "\n",
    "env = MazeEnv()\n",
    "\n",
    "steps_vs_iters_list = []\n",
    "for epsilon in epsilon_list:\n",
    "   q_hat, steps_vs_iters = qlearn(env, num_iters, alpha, gamma, epsilon, max_steps, use_softmax_policy)\n",
    "   steps_vs_iters_list.append(steps_vs_iters)"
   ]
  },
  {
   "cell_type": "code",
   "execution_count": 54,
   "metadata": {
    "pycharm": {
     "is_executing": false
    }
   },
   "outputs": [
    {
     "data": {
      "image/png": "[encoded data removed]",
      "text/plain": [
       "<Figure size 432x288 with 1 Axes>"
      ]
     },
     "metadata": {
      "needs_background": "light"
     },
     "output_type": "display_data"
    }
   ],
   "source": [
    "# TODO: Plot the results\n",
    "label_list = [\"epsilon={}\".format(eps) for eps in epsilon_list]\n",
    "plot_several_steps_vs_iters(steps_vs_iters_list, label_list)"
   ]
  },
  {
   "cell_type": "markdown",
   "metadata": {},
   "source": [
    "(b) Try exploring with policy derived from **softmax of Q-values** described in the Q learning lecture. Use the values of $\\beta \\in \\{1, 3, 6\\}$ for your experiment, keeping $\\beta$ fixed throughout the training."
   ]
  },
  {
   "cell_type": "code",
   "execution_count": 55,
   "metadata": {
    "pycharm": {
     "is_executing": false
    }
   },
   "outputs": [],
   "source": [
    "# TODO: Fill this in for Static Beta with softmax of Q-values\n",
    "num_iters = 200\n",
    "alpha = 1.\n",
    "gamma = 0.9\n",
    "epsilon = 0.1\n",
    "max_steps = 100\n",
    "\n",
    "# TODO: Set the beta\n",
    "beta_list = [1, 3, 6]\n",
    "use_softmax_policy = True\n",
    "k_exp_schedule =  0.1# (float) choose k such that we have a constant beta during training\n",
    "\n",
    "env = MazeEnv()\n",
    "steps_vs_iters_list = []\n",
    "for beta in beta_list:\n",
    "    q_hat, steps_vs_iters = qlearn(env, num_iters, alpha, gamma, epsilon, max_steps, use_softmax_policy, beta, k_exp_schedule)\n",
    "    steps_vs_iters_list.append(steps_vs_iters)"
   ]
  },
  {
   "cell_type": "code",
   "execution_count": 56,
   "metadata": {
    "pycharm": {
     "is_executing": false
    }
   },
   "outputs": [
    {
     "data": {
      "image/png": "[encoded data removed]",
      "text/plain": [
       "<Figure size 432x288 with 1 Axes>"
      ]
     },
     "metadata": {
      "needs_background": "light"
     },
     "output_type": "display_data"
    }
   ],
   "source": [
    "label_list = [\"beta={}\".format(beta) for beta in beta_list]\n",
    "# TODO: \n",
    "plot_several_steps_vs_iters(steps_vs_iters_list, label_list)"
   ]
  },
  {
   "cell_type": "markdown",
   "metadata": {},
   "source": [
    "(c) Instead of fixing the $\\beta = \\beta_0$ to the initial value, we will increase the value of $\\beta$ as the number of episodes $t$ increase:\n",
    "\n",
    "$$\\beta(t) = \\beta_0 e^{kt}$$\n",
    "\n",
    "That is, the $\\beta$ value is fixed for a particular episode.\n",
    "Run the training again for different values of $k \\in \\{0.05, 0.1, 0.25, 0.5\\}$, keeping $\\beta_0 = 1.0$. Compare the results obtained with this approach to those obtained with a static $\\beta$ value."
   ]
  },
  {
   "cell_type": "code",
   "execution_count": 57,
   "metadata": {
    "pycharm": {
     "is_executing": false
    }
   },
   "outputs": [],
   "source": [
    "# TODO: Fill this in for Dynamic Beta\n",
    "num_iters = 200\n",
    "alpha = 1.\n",
    "gamma = 0.9\n",
    "epsilon = 0.1\n",
    "max_steps = 100\n",
    "\n",
    "# TODO: Set the beta\n",
    "beta = 1.0\n",
    "use_softmax_policy = True\n",
    "k_exp_schedule_list = [0.05, 0.1, 0.25, 0.5]\n",
    "env = MazeEnv()\n",
    "\n",
    "steps_vs_iters_list = []\n",
    "for k_exp_schedule in k_exp_schedule_list:\n",
    "    q_hat, steps_vs_iters = qlearn(env, num_iters, alpha, gamma, epsilon, max_steps, use_softmax_policy, beta, k_exp_schedule)\n",
    "    steps_vs_iters_list.append(steps_vs_iters)"
   ]
  },
  {
   "cell_type": "code",
   "execution_count": 58,
   "metadata": {
    "pycharm": {
     "is_executing": false
    }
   },
   "outputs": [
    {
     "data": {
      "image/png": "[encoded data removed]",
      "text/plain": [
       "<Figure size 432x288 with 1 Axes>"
      ]
     },
     "metadata": {
      "needs_background": "light"
     },
     "output_type": "display_data"
    }
   ],
   "source": [
    "# TODO: Plot the steps vs iterations\n",
    "label_list = [\"k={}\".format(k_exp_schedule) for k_exp_schedule in k_exp_schedule_list]\n",
    "plot_several_steps_vs_iters(steps_vs_iters_list, label_list)"
   ]
  },
  {
   "cell_type": "markdown",
   "metadata": {},
   "source": [
    "## 3. Stochastic Environments"
   ]
  },
  {
   "cell_type": "markdown",
   "metadata": {},
   "source": [
    "(a) Make  the  environment  stochastic  (uncertain),  such  that  the  agent  only  has  a  95% chance  of  moving  in  the  chosen  direction,  and  has  a  5%  chance  of  moving  in  some random direction."
   ]
  },
  {
   "cell_type": "code",
   "execution_count": 59,
   "metadata": {
    "pycharm": {
     "is_executing": false
    }
   },
   "outputs": [],
   "source": [
    "# TODO: Implement ProbabilisticMazeEnv in maze.py"
   ]
  },
  {
   "cell_type": "markdown",
   "metadata": {},
   "source": [
    "(b) Change the learning rule to handle the non-determinism, and experiment with different probability of environment performing random action $p_{rand} \\in \\{0.05, 0.1, 0.25, 0.5\\}$ in this new rule. How does performance vary as the environment becomes more stochastic?\n",
    "\n",
    "Use the same parameters as in first part, except change the alpha ($\\alpha$) value to be **less than 1**, e.g. 0.5."
   ]
  },
  {
   "cell_type": "code",
   "execution_count": 60,
   "metadata": {
    "pycharm": {
     "is_executing": false
    }
   },
   "outputs": [],
   "source": [
    "# TODO: Use the same parameters as in the first part, except change alpha\n",
    "num_iters = 200\n",
    "alpha = 0.5\n",
    "gamma = 0.9\n",
    "epsilon = 0.1\n",
    "max_steps = 100\n",
    "use_softmax_policy = False\n",
    "\n",
    "# Set the environment probability of random\n",
    "env_p_rand_list = [0.05, 0.1, 0.25, 0.5]\n",
    "\n",
    "steps_vs_iters_list = []\n",
    "for env_p_rand in env_p_rand_list:\n",
    "    # Instantiate with ProbabilisticMazeEnv\n",
    "    env = ProbabilisticMazeEnv(p_random=env_p_rand)\n",
    "\n",
    "    # Note: We will repeat for several runs of the algorithm to make the result less noisy\n",
    "    avg_steps_vs_iters = np.zeros(num_iters)\n",
    "    for i in range(10):\n",
    "        q_hat, steps_vs_iters = qlearn(env, num_iters, alpha, gamma, epsilon, max_steps, use_softmax_policy)\n",
    "        avg_steps_vs_iters += steps_vs_iters\n",
    "    avg_steps_vs_iters /= 10\n",
    "    steps_vs_iters_list.append(avg_steps_vs_iters)"
   ]
  },
  {
   "cell_type": "code",
   "execution_count": 61,
   "metadata": {
    "pycharm": {
     "is_executing": false
    }
   },
   "outputs": [
    {
     "data": {
      "image/png": "[encoded data removed]",
      "text/plain": [
       "<Figure size 432x288 with 1 Axes>"
      ]
     },
     "metadata": {
      "needs_background": "light"
     },
     "output_type": "display_data"
    }
   ],
   "source": [
    "label_list = [\"env_random={}\".format(env_p_rand) for env_p_rand in env_p_rand_list]\n",
    "plot_several_steps_vs_iters(steps_vs_iters_list, label_list)"
   ]
  },
  {
   "cell_type": "markdown",
   "metadata": {
    "pycharm": {
     "name": "#%% md\n"
    }
   },
   "source": [
    "# 2.3 Write-up\n",
    "\n",
    "(2.2.1) We can see from episodes vs. steps to goal plot, that the number of steps generally\n",
    "decreases with every episode which is what we expect from q learning. However, we can see from\n",
    "the policy plot, that its version of the optimal path is not necessarily the shortest path and \n",
    "this is due to such a such a relatively small epsilon value (less likely to be adventurous)\n",
    "\n",
    "(2.2.2) Noticed that with a lower epsilon value, the algorithm reaches a lower step\n",
    "to goal a lot faster compared to a higher epsilon value. This is most likely due to \n",
    "with a 0.5 epsilon value, our algorithm only makes the optmal move 50% of the time. \n",
    "Can see with a $\\beta = 6$ ot takes longer to reach a lower step goal but whats interesting \n",
    "is the $\\beta = 3$ reaches a lower step goal versus $\\beta = 1$. This is probably due to \n",
    "allowing exploring alternative actions more reasonable and enough.\n",
    "Realized that even though k = 0.05 reaches a signifanctly lower step to goal compared to the\n",
    "other k values, k = 0.1, 0.25, 0.5 eventually reach the same and lower step to goal compared to \n",
    "k = 0.05.\n",
    "\n",
    "(2.2.3) As we expected with an env_random of 0.5 it takes much more episodes in order to obtain \n",
    "a lower number of steps to goal compared to the other env_random probabilities since are\n",
    "chance of changing the optimal move 50% of the time. It is also worth to note that based on the\n",
    "plot, an env_random of 0.25 reaches the lowest step to goal the fastest possibly because it was \n",
    "lucky enough to explore and found a more optimal path earlier."
   ]
  },
  {
   "cell_type": "markdown",
   "metadata": {
    "pycharm": {
     "name": "#%% md\n"
    }
   },
   "source": [
    "# 3. Did you complete the course evaluation?"
   ]
  },
  {
   "cell_type": "code",
   "execution_count": 62,
   "metadata": {
    "pycharm": {
     "is_executing": false
    }
   },
   "outputs": [],
   "source": [
    "# Answer: yes / no\n",
    "Answer = \"HELL YEAAAAAAAAA!!!!!!!!!!!!!!\""
   ]
  },
  {
   "cell_type": "code",
   "execution_count": null,
   "metadata": {
    "pycharm": {
     "is_executing": false,
     "name": "#%% \n"
    }
   },
   "outputs": [],
   "source": [
    "# qlearning code\n",
    "import numpy as np\n",
    "import math\n",
    "import copy\n",
    "\n",
    "from starter_code.maze import MazeEnv, ProbabilisticMazeEnv\n",
    "from starter_code.plotting_utils import plot_steps_vs_iters, plot_several_steps_vs_iters, plot_policy_from_q\n",
    "\n",
    "\n",
    "def qlearn(env, num_iters, alpha, gamma, epsilon, max_steps, use_softmax_policy, init_beta=None, k_exp_sched=None):\n",
    "    \"\"\" Runs tabular Q learning algorithm for stochastic environment.\n",
    "\n",
    "    Args:\n",
    "        env: instance of environment object \n",
    "        num_iters (int): Number of episodes to run Q-learning algorithm\n",
    "        alpha (float): The learning rate between [0,1]\n",
    "        gamma (float): Discount factor, between [0,1)\n",
    "        epsilon (float): Probability in [0,1] that the agent selects a random move instead of \n",
    "                selecting greedily from Q value\n",
    "        max_steps (int): Maximum number of steps in the environment per episode\n",
    "        use_softmax_policy (bool): Whether to use softmax policy (True) or Epsilon-Greedy (False)\n",
    "        init_beta (float): If using stochastic policy, sets the initial beta as the parameter for the softmax\n",
    "        k_exp_sched (float): If using stochastic policy, sets hyperparameter for exponential schedule\n",
    "            on beta\n",
    "    \n",
    "    Returns:\n",
    "        q_hat: A Q-value table shaped [num_states, num_actions] for environment with with num_states \n",
    "            number of states (e.g. num rows * num columns for grid) and num_actions number of possible \n",
    "            actions (e.g. 4 actions up/down/left/right)\n",
    "        steps_vs_iters: An array of size num_iters. Each element denotes the number \n",
    "            of steps in the environment that the agent took to get to the goal\n",
    "            (capped to max_steps)\n",
    "    \"\"\"\n",
    "    action_space_size = env.num_actions\n",
    "    state_space_size = env.num_states\n",
    "    q_hat = np.zeros(shape=(state_space_size, action_space_size))\n",
    "    steps_vs_iters = np.zeros(num_iters)\n",
    "\n",
    "    for i in range(num_iters):\n",
    "        # TODO: Initialize current state by resetting the environment\n",
    "        curr_state = env.reset()\n",
    "        num_steps = 0\n",
    "        done = False\n",
    "\n",
    "        # TODO: Keep looping while environment isn't done and less than maximum steps\n",
    "        while num_steps < max_steps and done is not True:\n",
    "            num_steps += 1\n",
    "\n",
    "            # Choose an action using policy derived from either softmax Q-value \n",
    "            # or epsilon greedy\n",
    "            if use_softmax_policy:\n",
    "                assert (init_beta is not None)\n",
    "                assert (k_exp_sched is not None)\n",
    "                # TODO: Boltzmann stochastic policy\n",
    "                beta = beta_exp_schedule(init_beta, i, k_exp_sched)  # Call beta_exp_schedule to get the current beta value\n",
    "                action = softmax_policy(q_hat, beta, curr_state)\n",
    "            else:\n",
    "                # TODO: Epsilon-greedy\n",
    "                action = epsilon_greedy(q_hat, epsilon, curr_state, action_space_size)\n",
    "\n",
    "            # TODO: Execute action in the environment and observe the next state, reward, and done flag\n",
    "            next_state, reward, done = env.step(action)\n",
    "\n",
    "            # TODO: Update Q_value\n",
    "            if next_state != curr_state:\n",
    "                # new_value = np.argmax(q_hat[next_state], axis=1)\n",
    "                # TODO: Use Q-learning rule to update q_hat for the curr_state and action:\n",
    "                # i.e., Q(s,a) <- Q(s,a) + alpha*[reward + gamma * max_a'(Q(s',a')) - Q(s,a)]\n",
    "                q_hat[curr_state, action] += alpha * (reward + gamma * max(q_hat[next_state]) - q_hat[curr_state, action])\n",
    "\n",
    "                # TODO: Update the current state to be the next state\n",
    "                curr_state = copy.deepcopy(next_state)\n",
    "\n",
    "        steps_vs_iters[i] = num_steps\n",
    "\n",
    "    return q_hat, steps_vs_iters\n",
    "\n",
    "\n",
    "def epsilon_greedy(q_hat, epsilon, state, action_space_size):\n",
    "    \"\"\" Chooses a random action with p_rand_move probability,\n",
    "    otherwise choose the action with highest Q value for\n",
    "    current observation\n",
    "\n",
    "    Args:\n",
    "        q_hat_3D: A Q-value table shaped [num_rows, num_col, num_actions] for \n",
    "            grid environment with num_rows rows and num_col columns and num_actions \n",
    "            number of possible actions\n",
    "        epsilon (float): Probability in [0,1] that the agent selects a random \n",
    "            move instead of selecting greedily from Q value\n",
    "        obs: A 2-element array with integer element denoting the row and column\n",
    "            that the agent is in\n",
    "        action_space_size (int): number of possible actions\n",
    "    \n",
    "    Returns:\n",
    "        action (int): A number in the range [0, action_space_size-1]\n",
    "            denoting the action the agent will take\n",
    "    \"\"\"\n",
    "    # TODO: Implement your code here\n",
    "    # Hint: Sample from a uniform distribution and check if the sample is below\n",
    "    # a certain threshold\n",
    "    sample = np.random.uniform()\n",
    "    if max(q_hat[state]) == 0 or sample < epsilon:\n",
    "        return np.random.randint(action_space_size)\n",
    "    return np.argmax(q_hat[state])\n",
    "\n",
    "\n",
    "def softmax_policy(q_hat, beta, state):\n",
    "    \"\"\" Choose action using policy derived from Q, using\n",
    "    softmax of the Q values divided by the temperature.\n",
    "\n",
    "    Args:\n",
    "        q_hat: A Q-value table shaped [num_rows, num_col, num_actions] for \n",
    "            grid environment with num_rows rows and num_col columns\n",
    "        beta (float): Parameter for controlling the stochasticity of the action\n",
    "        obs: A 2-element array with integer element denoting the row and column\n",
    "            that the agent is in\n",
    "\n",
    "    Returns:\n",
    "        action (int): A number in the range [0, action_space_size-1]\n",
    "            denoting the action the agent will take\n",
    "    \"\"\"\n",
    "    # TODO: Implement your code here\n",
    "    # Hint: use the stable_softmax function defined below\n",
    "    softmax = stable_softmax(beta * q_hat[state], 0)\n",
    "    action = np.random.choice(4, 1, p=softmax)\n",
    "    return action\n",
    "\n",
    "\n",
    "def beta_exp_schedule(init_beta, iteration, k=0.1):\n",
    "    beta = init_beta * np.exp(k * iteration)\n",
    "    return beta\n",
    "\n",
    "\n",
    "def stable_softmax(x, axis=2):\n",
    "    \"\"\" Numerically stable softmax:\n",
    "    softmax(x) = e^x /(sum(e^x))\n",
    "               = e^x / (e^max(x) * sum(e^x/e^max(x)))\n",
    "    \n",
    "    Args:\n",
    "        x: An N-dimensional array of floats\n",
    "        axis: The axis for normalizing over.\n",
    "    \n",
    "    Returns:\n",
    "        output: softmax(x) along the specified dimension\n",
    "    \"\"\"\n",
    "    max_x = np.max(x, axis, keepdims=True)\n",
    "    z = np.exp(x - max_x)\n",
    "    output = z / np.sum(z, axis, keepdims=True)\n",
    "\n",
    "    return output\n",
    "    \n",
    "# ProbabiliticMaze code\n",
    "\n",
    "class ProbabilisticMazeEnv:\n",
    "    \"\"\" (Q2.3) Hints: you can refer the implementation in MazeEnv \n",
    "    \"\"\"\n",
    "    \n",
    "    def __init__(self, goals=[[2, 8]], p_random=0.05):\n",
    "        \"\"\" Probabilistic Maze Environment \n",
    "\n",
    "            Args:\n",
    "                goals (list): list of goals coordinates\n",
    "                p_random (float): random action rate\n",
    "        \"\"\"\n",
    "\n",
    "        self.p_random = p_random\n",
    "        self.m_size = 10\n",
    "        self.reward = 10\n",
    "        self.num_actions = 4\n",
    "        self.num_states = self.m_size * self.m_size\n",
    "\n",
    "        self.map = np.ones((self.m_size, self.m_size))\n",
    "        self.map[3, 4:9] = 0\n",
    "        self.map[4:8, 4] = 0\n",
    "        self.map[5, 2:4] = 0\n",
    "\n",
    "        for goal in goals:\n",
    "            self.map[goal[0], goal[1]] = -1\n",
    "\n",
    "        self.start = [6, 3]\n",
    "        self.goals = goals\n",
    "        self.obs = self.start\n",
    "\n",
    "    def step(self, a):\n",
    "        \"\"\" Perform a action on the environment\n",
    "\n",
    "            Args:\n",
    "                a (int): action integer\n",
    "\n",
    "            Returns:\n",
    "                obs (list): observation list\n",
    "                reward (int): reward for such action\n",
    "                done (int): whether the goal is reached\n",
    "        \"\"\"\n",
    "        done, reward = False, 0.0\n",
    "        next_obs = copy.copy(self.obs)\n",
    "        sample = np.random.uniform()\n",
    "        if sample <= self.p_random:\n",
    "            a = np.random.randint(4)\n",
    "\n",
    "        if a == 0:\n",
    "            next_obs[0] = next_obs[0] - 1\n",
    "        elif a == 1:\n",
    "            next_obs[1] = next_obs[1] + 1\n",
    "        elif a == 2:\n",
    "            next_obs[1] = next_obs[1] - 1\n",
    "        elif a == 3:\n",
    "            next_obs[0] = next_obs[0] + 1\n",
    "        else:\n",
    "            raise Exception(\"Action is Not Valid\")\n",
    "\n",
    "        if self.is_valid_obs(next_obs):\n",
    "            self.obs = next_obs\n",
    "\n",
    "        if self.map[self.obs[0], self.obs[1]] == -1:\n",
    "            reward = self.reward\n",
    "            done = True\n",
    "\n",
    "        state = self.get_state_from_coords(self.obs[0], self.obs[1])\n",
    "\n",
    "        return state, reward, done\n",
    "\n",
    "    def is_valid_obs(self, obs):\n",
    "        \"\"\" Check whether the observation is valid\n",
    "\n",
    "            Args:\n",
    "                obs (list): observation [x, y]\n",
    "\n",
    "            Returns:\n",
    "                is_valid (bool)\n",
    "        \"\"\"\n",
    "\n",
    "        if obs[0] >= self.m_size or obs[0] < 0:\n",
    "            return False\n",
    "\n",
    "        if obs[1] >= self.m_size or obs[1] < 0:\n",
    "            return False\n",
    "\n",
    "        if self.map[obs[0], obs[1]] == 0:\n",
    "            return False\n",
    "\n",
    "        return True\n",
    "\n",
    "    def get_state_from_coords(self, row, col):\n",
    "        state = row * self.m_size + col\n",
    "        return state\n",
    "\n",
    "    @property\n",
    "    def _get_obs(self):\n",
    "        \"\"\" Get current observation\n",
    "        \"\"\"\n",
    "        return self.obs\n",
    "\n",
    "    @property\n",
    "    def _get_state(self):\n",
    "        \"\"\" Get current observation\n",
    "        \"\"\"\n",
    "        return self.get_state_from_coords(self.obs[0], self.obs[1])\n",
    "\n",
    "    @property\n",
    "    def _get_start_state(self):\n",
    "        \"\"\" Get the start state\n",
    "        \"\"\"\n",
    "        return self.get_state_from_coords(self.start[0], self.start[1])\n",
    "\n",
    "    @property\n",
    "    def _get_goal_state(self):\n",
    "        \"\"\" Get the start state\n",
    "        \"\"\"\n",
    "        goals = []\n",
    "        for goal in self.goals:\n",
    "            goals.append(self.get_state_from_coords(goal[0], goal[1]))\n",
    "        return goals\n",
    "\n",
    "    def reset(self):\n",
    "        \"\"\" Reset the observation into starting point\n",
    "        \"\"\"\n",
    "        self.obs = self.start\n",
    "        state = self.get_state_from_coords(self.obs[0], self.obs[1])\n",
    "        return state\n",
    "\n",
    "\n",
    "\n",
    "    def get_coords_from_state(self, state):\n",
    "        row = math.floor(state / self.m_size)\n",
    "        col = state % self.m_size\n",
    "        return row, col\n",
    "\n"
   ]
  }
 ],
 "metadata": {
  "kernelspec": {
   "display_name": "Python 3",
   "language": "python",
   "name": "python3"
  },
  "language_info": {
   "codemirror_mode": {
    "name": "ipython",
    "version": 3
   },
   "file_extension": ".py",
   "mimetype": "text/x-python",
   "name": "python",
   "nbconvert_exporter": "python",
   "pygments_lexer": "ipython3",
   "version": "3.7.4"
  },
  "pycharm": {
   "stem_cell": {
    "cell_type": "raw",
    "metadata": {
     "collapsed": false
    },
    "source": []
   }
  }
 },
 "nbformat": 4,
 "nbformat_minor": 2
}
